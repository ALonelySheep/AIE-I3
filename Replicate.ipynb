{
  "cells": [
    {
      "cell_type": "markdown",
      "metadata": {
        "id": "UXa9IwkeokWH"
      },
      "source": [
        "# A Gentel Intro to Replicate: Movie Streaming Example\n",
        "This notebook shows how to run models on [Replicate](https://replicate.com).\n"
      ]
    },
    {
      "cell_type": "markdown",
      "metadata": {
        "id": "ep0A2pLDnoWK"
      },
      "source": [
        "# Setup\n",
        "\n",
        "To run this notebook, you’ll need to create a [Replicate](https://replicate.com) account and install the Replicate python client."
      ]
    },
    {
      "cell_type": "code",
      "execution_count": null,
      "metadata": {
        "colab": {
          "base_uri": "https://localhost:8080/"
        },
        "id": "JLTW6u8LnkDg",
        "outputId": "407b895f-4725-42d4-e8df-989d780521a2"
      },
      "outputs": [
        {
          "name": "stdout",
          "output_type": "stream",
          "text": [
            "Collecting replicate\n",
            "  Downloading replicate-0.22.0-py3-none-any.whl (35 kB)\n",
            "Collecting httpx<1,>=0.21.0 (from replicate)\n",
            "  Downloading httpx-0.26.0-py3-none-any.whl (75 kB)\n",
            "\u001b[2K     \u001b[90m━━━━━━━━━━━━━━━━━━━━━━━━━━━━━━━━━━━━━━━━\u001b[0m \u001b[32m75.9/75.9 kB\u001b[0m \u001b[31m3.2 MB/s\u001b[0m eta \u001b[36m0:00:00\u001b[0m\n",
            "\u001b[?25hRequirement already satisfied: packaging in /usr/local/lib/python3.10/dist-packages (from replicate) (23.2)\n",
            "Requirement already satisfied: pydantic>1 in /usr/local/lib/python3.10/dist-packages (from replicate) (1.10.13)\n",
            "Requirement already satisfied: typing-extensions>=4.5.0 in /usr/local/lib/python3.10/dist-packages (from replicate) (4.5.0)\n",
            "Requirement already satisfied: anyio in /usr/local/lib/python3.10/dist-packages (from httpx<1,>=0.21.0->replicate) (3.7.1)\n",
            "Requirement already satisfied: certifi in /usr/local/lib/python3.10/dist-packages (from httpx<1,>=0.21.0->replicate) (2023.11.17)\n",
            "Collecting httpcore==1.* (from httpx<1,>=0.21.0->replicate)\n",
            "  Downloading httpcore-1.0.2-py3-none-any.whl (76 kB)\n",
            "\u001b[2K     \u001b[90m━━━━━━━━━━━━━━━━━━━━━━━━━━━━━━━━━━━━━━━━\u001b[0m \u001b[32m76.9/76.9 kB\u001b[0m \u001b[31m4.9 MB/s\u001b[0m eta \u001b[36m0:00:00\u001b[0m\n",
            "\u001b[?25hRequirement already satisfied: idna in /usr/local/lib/python3.10/dist-packages (from httpx<1,>=0.21.0->replicate) (3.6)\n",
            "Requirement already satisfied: sniffio in /usr/local/lib/python3.10/dist-packages (from httpx<1,>=0.21.0->replicate) (1.3.0)\n",
            "Collecting h11<0.15,>=0.13 (from httpcore==1.*->httpx<1,>=0.21.0->replicate)\n",
            "  Downloading h11-0.14.0-py3-none-any.whl (58 kB)\n",
            "\u001b[2K     \u001b[90m━━━━━━━━━━━━━━━━━━━━━━━━━━━━━━━━━━━━━━━━\u001b[0m \u001b[32m58.3/58.3 kB\u001b[0m \u001b[31m3.0 MB/s\u001b[0m eta \u001b[36m0:00:00\u001b[0m\n",
            "\u001b[?25hRequirement already satisfied: exceptiongroup in /usr/local/lib/python3.10/dist-packages (from anyio->httpx<1,>=0.21.0->replicate) (1.2.0)\n",
            "Installing collected packages: h11, httpcore, httpx, replicate\n",
            "Successfully installed h11-0.14.0 httpcore-1.0.2 httpx-0.26.0 replicate-0.22.0\n"
          ]
        }
      ],
      "source": [
        "# install replicate client\n",
        "!pip install replicate"
      ]
    },
    {
      "cell_type": "markdown",
      "metadata": {
        "id": "8BCZiwH6cLnv"
      },
      "source": [
        "# Authenticate\n",
        "Before running any Python scripts that use the API, you need to set your Replicate API token in your environment.\n",
        "\n",
        "Grab your token from replicate.com/account and set it as an environment variable:\n",
        "\n",
        "export REPLICATE_API_TOKEN=<your token>\n",
        "We recommend not adding the token directly to your source code, because you don't want to put your credentials in source control. If anyone used your API key, their usage would be charged to your account.\n",
        "\n",
        "You can also store your API token in a local `.env` file"
      ]
    },
    {
      "cell_type": "code",
      "execution_count": 1,
      "metadata": {
        "colab": {
          "base_uri": "https://localhost:8080/"
        },
        "id": "5ZTkrAUhoIJE",
        "outputId": "fc0fd21e-ab98-474c-fd01-261304bf5d58"
      },
      "outputs": [],
      "source": [
        "import replicate\n",
        "\n",
        "# get a token: https://replicate.com/account\n",
        "from getpass import getpass\n",
        "import os\n",
        "from dotenv import load_dotenv\n",
        "\n",
        "# Load environment variables from .env file\n",
        "load_dotenv()\n",
        "\n",
        "os.getenv(\"REPLICATE_API_TOKEN\")\n",
        "\n",
        "# print(os.environ[\"REPLICATE_API_TOKEN\"])\n",
        "\n",
        "if not os.environ[\"REPLICATE_API_TOKEN\"]:\n",
        "    print(\"Please set the REPLICATE_API_TOKEN environment variable\")\n",
        "    REPLICATE_API_TOKEN = getpass()\n",
        "    os.environ[\"REPLICATE_API_TOKEN\"] = REPLICATE_API_TOKEN"
      ]
    },
    {
      "cell_type": "markdown",
      "metadata": {},
      "source": [
        "## LLM"
      ]
    },
    {
      "cell_type": "code",
      "execution_count": 10,
      "metadata": {},
      "outputs": [
        {
          "name": "stdout",
          "output_type": "stream",
          "text": [
            "Of course! I'm glad to hear that you're a fan of old west movies. There are so many great films that explore the wild west and its iconic characters. Here are some classic and contemporary recommendations for you to check out:\n",
            "\n",
            "1. The Searchers (1956) - A classic John Ford-directed Western starring John Wayne as a Civil War veteran who spends years searching for his niece who was kidnapped by Comanches.\n",
            "2. Butch Cassidy and the Sundance Kid (1969) - A lighthearted and entertaining film about two outlaws (played by Paul Newman and Robert Redford) who rob banks and evade the law in the early 20th century.\n",
            "3. Unforgivable Blackness: The Rise and Fall of Jack Johnson (2005) - A documentary about the first African American heavyweight champion of the world, Jack Johnson, who faced discrimination and racism in the early 20th century.\n",
            "4. The Good, the Bad and the Ugly (1966) - A classic spaghetti Western directed by Sergio Leone, starring Clint Eastwood, Lee Van Cleef, and Eli Wallach as three gunslingers who form an uneasy alliance in search of a buried treasure of gold.\n",
            "5. Dead Man (1995) - A surreal and visually stunning film directed by Jim Jarmusch, starring Johnny Depp as a young accountant who is mistakenly killed and sent to the afterlife, where he becomes a ghost and teams up with a Native American ghost (played by Gary Farmer) to find a way back to the living world.\n",
            "6. The Wild Bunch (1969) - A classic Sam Peckinpah-directed Western that follows a group of aging outlaws (played by William Holden, Ernest Borgnine, and Warren Oates) as they face the changing times and the rise of modern technology in the wild west.\n",
            "7. The Treasure of the Sierra Madre (1948) - An classic adventure film directed by John Huston, starring Humphrey Bogart and Walter Huston as two down-on-their-luck Americans who team up with a Mexican bandit (played by Alfonso Bedoya) to search for gold in the Sierra Madre mountains.\n",
            "8. The Magnificent Seven (1960) - A classic Western that follows seven gunfighters (played by Yul Brynner, Steve McQueen, and Charles Bronson, among others) as they try to protect a small Mexican village from a group of bandits.\n",
            "9. The Wild Riders (1960) - A lesser-known Western directed by Allan Dwan, starring Tony Curtis and Christine Kaufman as two cowboys who team up with a young woman (played by Piper Laurie) to help her family defend their land against a corrupt railroad company.\n",
            "10. The Outlaw Josey Wales (1976) - A classic Clint Eastwood-starring Western that follows a Confederate soldier (played by Eastwood) who goes rogue and becomes a fugitive after the Civil War, with a price on his head and a group of Union soldiers on his tail.\n",
            "\n",
            "I hope these recommendations help you discover some new and exciting old west movies to watch!"
          ]
        }
      ],
      "source": [
        "# The meta/llama-2-7b-chat model can stream output as it's running.\n",
        "for event in replicate.stream(\n",
        "    \"meta/llama-2-7b-chat\",\n",
        "    input={\n",
        "        \"debug\": False,\n",
        "        \"top_p\": 1,\n",
        "        \"prompt\": \"Hi, I'm a old west movie fan. Can you recommend me some movies to watch?\",\n",
        "        \"temperature\": 0.75,\n",
        "        \"system_prompt\": \"You are a helpful, respectful and honest assistant. Always answer as helpfully as possible, while being safe. Your answers should not include any harmful, unethical, racist, sexist, toxic, dangerous, or illegal content. Please ensure that your responses are socially unbiased and positive in nature.\\n\\nIf a question does not make any sense, or is not factually coherent, explain why instead of answering something not correct. If you don't know the answer to a question, please don't share false information.\",\n",
        "        \"max_new_tokens\": 800,\n",
        "        \"min_new_tokens\": -1,\n",
        "        \"prompt_template\": \"[INST] <<SYS>>\\n{system_prompt}\\n<</SYS>>\\n\\n{prompt} [/INST]\",\n",
        "        \"repetition_penalty\": 1\n",
        "    },\n",
        "):\n",
        "    print(str(event), end=\"\")"
      ]
    },
    {
      "cell_type": "markdown",
      "metadata": {},
      "source": [
        "## OCR\n",
        "\n"
      ]
    },
    {
      "cell_type": "code",
      "execution_count": 13,
      "metadata": {},
      "outputs": [
        {
          "name": "stdout",
          "output_type": "stream",
          "text": [
            "The terrifying\n",
            "motion picture\n",
            "from the terrifying\n",
            "No.1 best seller.\n",
            "\n",
            "ROBERT\n",
            "SHAW RICHARD\n",
            "DREYFUSS\n",
            "\n",
            "ROY\n",
            "SCHEIDER\n",
            "\n",
            "SRE - HNL A\n",
            "DSTRBUTED BY Cc S\n",
            "\n",
            "May be particularly disturbing to younger unaccompanied children.\n",
            "\n",
            "[PRINTED 14 ENGLAND BY W. BERRY LTD. BRADFORD\n",
            "\n",
            "\n"
          ]
        }
      ],
      "source": [
        "output = replicate.run(\n",
        "    \"abiruyt/text-extract-ocr:a524caeaa23495bc9edc805ab08ab5fe943afd3febed884a4f3747aa32e9cd61\",\n",
        "    input={\n",
        "        \"image\": \"https://filmartgallery.com/cdn/shop/products/Jaws-Vintage-Movie-Poster-Original-British-Quad-30x40-6657_66b362d5-61e8-4c38-8cd1-4f1a6e975d81.jpg?v=1642820541\"\n",
        "    }\n",
        ")\n",
        "print(output)"
      ]
    },
    {
      "cell_type": "markdown",
      "metadata": {},
      "source": [
        "## Autocaption"
      ]
    },
    {
      "cell_type": "code",
      "execution_count": 14,
      "metadata": {},
      "outputs": [
        {
          "name": "stdout",
          "output_type": "stream",
          "text": [
            "['https://replicate.delivery/pbxt/W6n4L0PNYR7mKFlJcq4xXcow2eOKBJCQMlfAxiB6qceeB9QKB/output.mp4']\n"
          ]
        }
      ],
      "source": [
        "output = replicate.run(\n",
        "    \"fictions-ai/autocaption:aa083d4ac7604fb6d29bd3eef7bc36d7166b3a96628c995b61c179bd0bcc31d3\",\n",
        "    input={\n",
        "        \"color\": \"white\",\n",
        "        \"opacity\": 0,\n",
        "        \"MaxChars\": 20,\n",
        "        \"fontsize\": 10,\n",
        "        \"output_video\": True,\n",
        "        \"subs_position\": \"bottom75\",\n",
        "        \"highlight_color\": \"yellow\",\n",
        "        \"video_file_input\": \"https://replicate.delivery/pbxt/K5zH0DF5HxiddqoyYg4Ff6MbElbEVxS6U9VqiczGXgFeDQiy/rick.mp4\",\n",
        "        \"output_transcript\": False,\n",
        "        \"transcript_file_input\": \"https://replicate.delivery/pbxt/K5zH09Jv2rNcgIzrJ6fc2XqtcrJO7kLuV2N7nWlbgaxYxXhi/transcript_out.json\"\n",
        "    }\n",
        ")\n",
        "print(output)"
      ]
    },
    {
      "cell_type": "markdown",
      "metadata": {
        "id": "Ax6xbVZOpnaV"
      },
      "source": [
        "# Other fun stuff\n",
        "The following example runs [stability-ai/stable-diffusion](https://replicate.com/stability-ai/stable-diffusion):"
      ]
    },
    {
      "cell_type": "code",
      "execution_count": 2,
      "metadata": {
        "colab": {
          "base_uri": "https://localhost:8080/"
        },
        "id": "eQCcYU6_nXub",
        "outputId": "5a0d75ad-b0f7-49b7-913a-77f037557769"
      },
      "outputs": [
        {
          "data": {
            "text/plain": [
              "['https://replicate.delivery/pbxt/WE7OeCXUXN19DK8AhaT1BTB62uBQVV4TerguPAgeeJwa2dPKB/out-0.png']"
            ]
          },
          "execution_count": 2,
          "metadata": {},
          "output_type": "execute_result"
        }
      ],
      "source": [
        "import replicate\n",
        "\n",
        "output = replicate.run(\n",
        "  \"stability-ai/sdxl:39ed52f2a78e934b3ba6e2a89f5b1c712de7dfea535525255b1aa35c5565e08b\",\n",
        "  input={\"prompt\": \"an iguana on the beach, pointillism\"}\n",
        ")\n",
        "\n",
        "output"
      ]
    },
    {
      "cell_type": "code",
      "execution_count": 3,
      "metadata": {
        "colab": {
          "base_uri": "https://localhost:8080/",
          "height": 1000
        },
        "id": "l2sNBQg-pywR",
        "outputId": "067c1010-78b3-47db-946a-e91676a28700"
      },
      "outputs": [
        {
          "data": {
            "text/html": [
              "<img src=\"https://replicate.delivery/pbxt/WE7OeCXUXN19DK8AhaT1BTB62uBQVV4TerguPAgeeJwa2dPKB/out-0.png\"/>"
            ],
            "text/plain": [
              "<IPython.core.display.Image object>"
            ]
          },
          "execution_count": 3,
          "metadata": {},
          "output_type": "execute_result"
        }
      ],
      "source": [
        "from IPython.display import Image\n",
        "Image(url=output[0])"
      ]
    },
    {
      "cell_type": "markdown",
      "metadata": {
        "id": "zUZBwKOYqozu"
      },
      "source": [
        "AI explains the Oppenhiemer Poster"
      ]
    },
    {
      "cell_type": "code",
      "execution_count": 6,
      "metadata": {
        "colab": {
          "base_uri": "https://localhost:8080/",
          "height": 56
        },
        "id": "NaQ3Jytoqyk5",
        "outputId": "1da37963-ddfe-436a-c9a7-c52feb0f1063"
      },
      "outputs": [
        {
          "data": {
            "text/plain": [
              "'a man in a suit in front of a fire'"
            ]
          },
          "execution_count": 6,
          "metadata": {},
          "output_type": "execute_result"
        }
      ],
      "source": [
        "# image = open(\"mystery.jpg\", \"rb\")\n",
        "# or...\n",
        "image = \"https://pbs.twimg.com/media/FvUVt3hXgAAxP1H?format=jpg&name=900x900\"\n",
        "#\n",
        "# for this example, let's use the URL from the previous prediction:\n",
        "# image = output[0]\n",
        "\n",
        "replicate.run(\n",
        "  \"andreasjansson/blip-2:4b32258c42e9efd4288bb9910bc532a69727f9acd26aa08e175713a0a857a608\",\n",
        "  input={\"image\": image, \"prompt\": \"what's in this picture?\"}\n",
        ")"
      ]
    }
  ],
  "metadata": {
    "colab": {
      "provenance": [],
      "toc_visible": true
    },
    "kernelspec": {
      "display_name": "Python 3",
      "name": "python3"
    },
    "language_info": {
      "codemirror_mode": {
        "name": "ipython",
        "version": 3
      },
      "file_extension": ".py",
      "mimetype": "text/x-python",
      "name": "python",
      "nbconvert_exporter": "python",
      "pygments_lexer": "ipython3",
      "version": "3.11.7"
    }
  },
  "nbformat": 4,
  "nbformat_minor": 0
}
